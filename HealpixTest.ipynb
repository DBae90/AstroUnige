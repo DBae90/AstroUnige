{
 "cells": [
  {
   "cell_type": "code",
   "execution_count": null,
   "id": "8d88d7f2",
   "metadata": {},
   "outputs": [],
   "source": [
    "from astropy.coordinates import SkyCoord\n",
    "from ligo.skymap.io import read_sky_map\n",
    "from ligo.skymap.postprocess import crossmatch\n",
    "import numpy as np\n",
    "import pandas as pd"
   ]
  },
  {
   "cell_type": "code",
   "execution_count": 12,
   "id": "fb84f52e",
   "metadata": {},
   "outputs": [],
   "source": [
    "hecateFile = pd.read_csv(\"/home/db/Desktop/AstroProject/Data/hecate_v1.1_for_GW.csv\")\n",
    "fitsFile = '/home/db/Desktop/AstroProject/Data/MCMC_TF2_LowSpin_AllSky.fits'"
   ]
  },
  {
   "cell_type": "code",
   "execution_count": 52,
   "id": "fde42e98",
   "metadata": {},
   "outputs": [],
   "source": [
    "skymap = read_sky_map(fitsFile, moc=True)\n",
    "coordinates = SkyCoord(hecateFile['RA'], hecateFile['DEC'], hecateFile['D'], frame=\"icrs\", unit=(\"deg\", \"deg\", \"Mpc\"))"
   ]
  },
  {
   "cell_type": "code",
   "execution_count": 57,
   "id": "110c7d99",
   "metadata": {},
   "outputs": [
    {
     "name": "stdout",
     "output_type": "stream",
     "text": [
      "  UNIQ      PROBDENSITY           DISTMU           DISTSIGMA            DISTNORM      \n",
      "               1 / sr              Mpc                Mpc               1 / Mpc2      \n",
      "-------- ------------------ ------------------ ----------------- ---------------------\n",
      "      74                0.0                inf               1.0                   0.0\n",
      "      75                0.0                inf               1.0                   0.0\n",
      "      77                0.0                inf               1.0                   0.0\n",
      "      78                0.0                inf               1.0                   0.0\n",
      "      79                0.0                inf               1.0                   0.0\n",
      "     290                0.0                inf               1.0                   0.0\n",
      "     291                0.0                inf               1.0                   0.0\n",
      "     292                0.0                inf               1.0                   0.0\n",
      "     294                0.0                inf               1.0                   0.0\n",
      "     295                0.0                inf               1.0                   0.0\n",
      "     ...                ...                ...               ...                   ...\n",
      "15461346  154.5993195225988  37.17068474545382 7.110624412266411 0.0006982163723472593\n",
      "15461347 138.13520924449787  37.20738857029676 7.194155175339538 0.0006963082137019185\n",
      "15461352 165.80304266747459   37.1691236152463 7.084236390531806  0.000698455638643557\n",
      "15461353 148.80580442187144  37.20458621976042 7.145082835679683 0.0006967507648587637\n",
      "15461354 177.31505830338563  37.17425414901271 7.071017329122748 0.0006983608631360406\n",
      "15461355 159.89747236393416  37.19629951174051 7.103519360863811 0.0006973380659794666\n",
      "15461356 130.14444960649507  37.21030853162121 7.256173042381579 0.0006957687689114064\n",
      "15461357 112.66538410368783   37.0966969464775 7.380112369260232  0.000698992271643216\n",
      "15461358 140.07250960444736 37.223939860873784 7.202737491861358 0.0006956516291264523\n",
      "15461359 120.68756453062024  37.16322238045404 7.325370584954752 0.0006969776915583247\n",
      "Length = 16752 rows\n"
     ]
    }
   ],
   "source": [
    "skymap.pprint(max_width = 1000)"
   ]
  },
  {
   "cell_type": "code",
   "execution_count": 38,
   "id": "f463d0de",
   "metadata": {},
   "outputs": [],
   "source": [
    "result = crossmatch(skymap, coordinates)"
   ]
  },
  {
   "cell_type": "code",
   "execution_count": 51,
   "id": "bf81e2f8",
   "metadata": {},
   "outputs": [
    {
     "name": "stdout",
     "output_type": "stream",
     "text": [
      "(204710, 16)\n",
      "            PGC                         OBJNAME          SDSS_PHOTID  \\\n",
      "0             2                        UGC12889                    -   \n",
      "1             3                       PGC000003                    -   \n",
      "2             4                       PGC000004  1237679478544072744   \n",
      "3             5                          IC5370  1237663234987458745   \n",
      "4             6                       PGC000006  1237656496724312079   \n",
      "...         ...                             ...                  ...   \n",
      "204728  6774239  [ONC2011]J239.773773+27.335077  1237662340012638750   \n",
      "204729  6774551  [ONC2011]J260.178596+26.546328  1237655473438785924   \n",
      "204730  6774922  [ONC2011]J260.058200+26.600056  1237655473438720341   \n",
      "204731  6775370                    BST1047+1156                    -   \n",
      "204732  6775392                         ANTLIA2                    -   \n",
      "\n",
      "                RA        DEC     R1     R2     PA        V         D      BT  \\\n",
      "0         0.006945  47.274581  0.933  0.589  163.5   5016.7   67.9204  14.241   \n",
      "1         0.013125 -18.008200  0.330  0.330    0.0   8954.0  124.2548  15.150   \n",
      "2         0.014292  23.087596  0.428  0.095   63.2   4461.7   53.9879  16.880   \n",
      "3         0.038121  32.738420  0.391  0.391    0.0  10365.2  146.2144  14.759   \n",
      "4         0.008763  15.881670  0.200  0.144   89.6   6003.3   85.6908  15.546   \n",
      "...            ...        ...    ...    ...    ...      ...       ...     ...   \n",
      "204728  239.773773  27.335077  0.056  0.021  128.0  13367.6  185.7535     NaN   \n",
      "204729  260.178596  26.546328  0.055  0.019   45.0   4810.8   70.0893     NaN   \n",
      "204730  260.058200  26.600056  0.035  0.035    0.0  13085.3  183.6867     NaN   \n",
      "204731  161.932500  11.933611    NaN    NaN    NaN    970.0   16.1664  20.110   \n",
      "204732  143.886800 -36.767300    NaN    NaN    NaN    290.7    2.7247     NaN   \n",
      "\n",
      "        logSFR_HEC  logM_HEC  logSFR_GSW  logM_GSW   METAL  \n",
      "0              NaN   11.0780         NaN       NaN     NaN  \n",
      "1            0.425    9.5614         NaN       NaN     NaN  \n",
      "2              NaN       NaN         NaN       NaN     NaN  \n",
      "3            0.222   11.3953         NaN       NaN     NaN  \n",
      "4            0.227   10.1894      -0.239      9.94  8.7275  \n",
      "...            ...       ...         ...       ...     ...  \n",
      "204728         NaN       NaN         NaN       NaN     NaN  \n",
      "204729         NaN       NaN         NaN       NaN     NaN  \n",
      "204730         NaN       NaN         NaN       NaN     NaN  \n",
      "204731         NaN       NaN         NaN       NaN     NaN  \n",
      "204732         NaN       NaN         NaN       NaN     NaN  \n",
      "\n",
      "[204710 rows x 16 columns]\n"
     ]
    }
   ],
   "source": [
    "subset = hecateFile[result.searched_prob_vol > 0.9]\n",
    "print(subset.shape)\n",
    "print(subset)"
   ]
  }
 ],
 "metadata": {
  "kernelspec": {
   "display_name": "Python 3 (ipykernel)",
   "language": "python",
   "name": "python3"
  },
  "language_info": {
   "codemirror_mode": {
    "name": "ipython",
    "version": 3
   },
   "file_extension": ".py",
   "mimetype": "text/x-python",
   "name": "python",
   "nbconvert_exporter": "python",
   "pygments_lexer": "ipython3",
   "version": "3.8.8"
  }
 },
 "nbformat": 4,
 "nbformat_minor": 5
}
