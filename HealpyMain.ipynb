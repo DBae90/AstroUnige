{
 "cells": [
  {
   "cell_type": "code",
   "execution_count": 26,
   "id": "70ff21d6",
   "metadata": {},
   "outputs": [],
   "source": [
    "import numpy as np\n",
    "import pandas as pd\n",
    "import healpy as hp\n",
    "import matplotlib.pyplot as plt\n",
    "\n",
    "hecateFile = pd.read_csv('/home/db/Desktop/AstroProject/Data/hecate_v1.1_for_GW.csv')\n",
    "fitsFile = '/home/db/Desktop/AstroProject/Data/MCMC_TF2_LowSpin_AllSky.fits'\n",
    "\n",
    "[prob, distmu, distsigma, distnorm], header = hp.read_map(fitsFile, field=[0, 1, 2, 3], h = True) # creates 2 arrays, one with 4 columns, and one for the header column that is needed to find an abstract value which is the NSIDE for the ang2pix function\n",
    "\n",
    "headerDict = {nameKeys:value for nameKeys,value in header} # Creates a dictionnary between a key and a value associated\n",
    "\n",
    "HECATE_pixelsIndex = hp.ang2pix(headerDict['NSIDE'], hecateFile['RA'], np.array(hecateFile['DEC']), lonlat=True) # Converts the 2 angle values we have to pixel values, that we'll then make correspond with the FITS pixels"
   ]
  },
  {
   "cell_type": "code",
   "execution_count": 27,
   "id": "c3fb2224",
   "metadata": {},
   "outputs": [
    {
     "name": "stdout",
     "output_type": "stream",
     "text": [
      "[['PGC169672' 0.006675970091842589]\n",
      " ['PGC831458' 0.00656682202026065]\n",
      " ['PGC158506' 0.006526787685675716]\n",
      " ['PGC837800' 0.0063802623433190314]\n",
      " ['2MASXJ13042517-2042527' 0.0062625413769155265]]\n"
     ]
    }
   ],
   "source": [
    "# P2D top 5 sources\n",
    "\n",
    "P2D = prob[HECATE_pixelsIndex] # P2D probability associated to all galaxy of HECATE\n",
    "\n",
    "sumProb = np.sum(P2D)\n",
    "\n",
    "P2D_norm = P2D/sumProb # Normalized P2D array\n",
    "\n",
    "fiveMaxP2DIndex = np.argsort(P2D_norm)[-5:][::-1] # takes the 5 largest elements sorted from largest to smallest ([-5:] is from smallest to largest only)\n",
    "\n",
    "fiveMaxP2D = P2D_norm[fiveMaxP2DIndex] # fiveMaxProb is the top 5 galaxy candidates that can be the source of the GW\n",
    "\n",
    "fiveMaxP2DNames = hecateFile['OBJNAME'][fiveMaxP2DIndex]\n",
    "\n",
    "fiveMaxP2DNames = fiveMaxP2DNames.to_numpy()\n",
    "\n",
    "print(np.c_[fiveMaxP2DNames, fiveMaxP2D])"
   ]
  },
  {
   "cell_type": "code",
   "execution_count": 28,
   "id": "d4e3e2c5",
   "metadata": {},
   "outputs": [],
   "source": [
    "# Variables\n",
    "\n",
    "P_pixel = P2D # Renaming the non-normalized P2D for all galaxies\n",
    "\n",
    "N_pixel = distnorm[HECATE_pixelsIndex]\n",
    "\n",
    "D_galaxy = hecateFile['D'].to_numpy()\n",
    "\n",
    "mu_pixel = distmu[HECATE_pixelsIndex]\n",
    "\n",
    "mu_pixel = np.array([x if x >= 0 else 0 for x in mu_pixel]) # changes all negative values of mu_pixel to 0\n",
    "\n",
    "sig_pixel = distsigma[HECATE_pixelsIndex]\n",
    "\n",
    "exponent = -1/2*((D_galaxy-mu_pixel)/sig_pixel)**2\n",
    "\n",
    "GaussFactor = np.exp(exponent) # Gaussian exponential of (1) of Ducoin paper"
   ]
  },
  {
   "cell_type": "code",
   "execution_count": 29,
   "id": "7ed17c6d",
   "metadata": {},
   "outputs": [
    {
     "name": "stdout",
     "output_type": "stream",
     "text": [
      "[['ESO508-004' 0.0964901982774173]\n",
      " ['ESO575-053' 0.08491642944762096]\n",
      " ['NGC4993' 0.08356755221946364]\n",
      " ['ESO575-055' 0.08168905970345927]\n",
      " ['ESO508-024' 0.06740727980139116]]\n"
     ]
    }
   ],
   "source": [
    "# P3D top 5 sources\n",
    "\n",
    "P3D = P_pixel*N_pixel*GaussFactor # Formula (1) of the Ducoin paper\n",
    "\n",
    "P3D = np.nan_to_num(P3D) # sets all nan values to 0\n",
    "\n",
    "sumP3D = np.sum(P3D)\n",
    "\n",
    "P3D_norm = P3D/sumP3D # Normalized P3D array\n",
    "\n",
    "fiveMaxP3DIndex = np.argsort(P3D_norm)[-5:][::-1] \n",
    "\n",
    "fiveMaxP3D = P3D_norm[fiveMaxP3DIndex]\n",
    "\n",
    "fiveMaxP3DNames = hecateFile['OBJNAME'][fiveMaxP3DIndex]\n",
    "\n",
    "fiveMaxP3DNames = fiveMaxP3DNames.to_numpy()\n",
    "\n",
    "print(np.c_[fiveMaxP3DNames, fiveMaxP3D])"
   ]
  },
  {
   "cell_type": "code",
   "execution_count": 30,
   "id": "a629e7a9",
   "metadata": {},
   "outputs": [
    {
     "name": "stdout",
     "output_type": "stream",
     "text": [
      "[['NGC4993' 0.2749947510338346]\n",
      " ['ESO575-053' 0.11071554858557876]\n",
      " ['ESO508-024' 0.10330127491740833]\n",
      " ['ESO575-055' 0.0828156275139597]\n",
      " ['NGC4968' 0.07317182612806192]]\n"
     ]
    }
   ],
   "source": [
    "# P3D*n(M*) top 5 sources\n",
    "\n",
    "Smass = hecateFile['logM_HEC'].to_numpy() # Column logM_HEC from the csv file\n",
    "\n",
    "PnM = P3D*np.exp(Smass) # Using formula (1) of the Artale paper\n",
    "\n",
    "PnM = np.nan_to_num(PnM)\n",
    "\n",
    "sumPnM = np.sum(PnM)\n",
    "\n",
    "PnM = PnM/sumPnM # Normalized PnM array\n",
    "\n",
    "fiveMaxPnMIndex = np.argsort(PnM)[-5:][::-1]\n",
    "\n",
    "fiveMaxPnM = PnM[fiveMaxPnMIndex]\n",
    "\n",
    "fiveMaxPnMnames = hecateFile['OBJNAME'][fiveMaxPnMIndex]\n",
    "\n",
    "fiveMaxPnMnames = fiveMaxPnMnames.to_numpy()\n",
    "\n",
    "print(np.c_[fiveMaxPnMnames, fiveMaxPnM])"
   ]
  },
  {
   "cell_type": "code",
   "execution_count": 31,
   "id": "bdf56c60",
   "metadata": {},
   "outputs": [
    {
     "name": "stdout",
     "output_type": "stream",
     "text": [
      "[['NGC4968' 0.3418277461856768]\n",
      " ['ESO508-024' 0.20197545983987142]\n",
      " ['ESO575-053' 0.17182229479880456]\n",
      " ['ESO508-010' 0.11144259958750834]\n",
      " ['IC4180' 0.08091132906860676]]\n"
     ]
    }
   ],
   "source": [
    "# P3D*n(M*,SFR) top 5 sources\n",
    "\n",
    "SFR = (hecateFile['logSFR_HEC'].to_numpy())\n",
    "\n",
    "PnMSFR = P3D*np.exp(Smass+SFR) # Using formula (2) of the Artale paper\n",
    "\n",
    "PnMSFR = np.nan_to_num(PnMSFR)\n",
    "\n",
    "sumPnMSFR = np.sum(PnMSFR)\n",
    "\n",
    "PnMSFR = PnMSFR/sumPnMSFR # Normalized PnMSFR array\n",
    "\n",
    "fiveMaxPnMSFRIndex = np.argsort(PnMSFR)[-5:][::-1]\n",
    "\n",
    "fiveMaxPnMSFR = PnMSFR[fiveMaxPnMSFRIndex]\n",
    "\n",
    "fiveMaxPnMSFRnames = hecateFile['OBJNAME'][fiveMaxPnMSFRIndex]\n",
    "\n",
    "fiveMaxPnMSFRnames = fiveMaxPnMSFRnames.to_numpy()\n",
    "\n",
    "print(np.c_[fiveMaxPnMSFRnames, fiveMaxPnMSFR])"
   ]
  },
  {
   "cell_type": "code",
   "execution_count": 32,
   "id": "b74b4c03",
   "metadata": {},
   "outputs": [
    {
     "name": "stdout",
     "output_type": "stream",
     "text": [
      "P2D\n",
      "[['PGC169672' 0.006675970091842589]\n",
      " ['PGC831458' 0.00656682202026065]\n",
      " ['PGC158506' 0.006526787685675716]\n",
      " ['PGC837800' 0.0063802623433190314]\n",
      " ['2MASXJ13042517-2042527' 0.0062625413769155265]]\n",
      " \n",
      "P3D\n",
      "[['ESO508-004' 0.0964901982774173]\n",
      " ['ESO575-053' 0.08491642944762096]\n",
      " ['NGC4993' 0.08356755221946364]\n",
      " ['ESO575-055' 0.08168905970345927]\n",
      " ['ESO508-024' 0.06740727980139116]]\n",
      " \n",
      "P3D*n(M*)\n",
      "[['NGC4993' 0.2749947510338346]\n",
      " ['ESO575-053' 0.11071554858557876]\n",
      " ['ESO508-024' 0.10330127491740833]\n",
      " ['ESO575-055' 0.0828156275139597]\n",
      " ['NGC4968' 0.07317182612806192]]\n",
      " \n",
      "P3D*n(M*,SFR)\n",
      "[['NGC4968' 0.3418277461856768]\n",
      " ['ESO508-024' 0.20197545983987142]\n",
      " ['ESO575-053' 0.17182229479880456]\n",
      " ['ESO508-010' 0.11144259958750834]\n",
      " ['IC4180' 0.08091132906860676]]\n"
     ]
    }
   ],
   "source": [
    "# Results\n",
    "\n",
    "print(\"P2D\", np.c_[fiveMaxP2DNames, fiveMaxP2D], \" \"\n",
    "      , \"P3D\", np.c_[fiveMaxP3DNames, fiveMaxP3D], \" \"\n",
    "      , \"P3D*n(M*)\", np.c_[fiveMaxPnMnames, fiveMaxPnM], \" \"\n",
    "      , \"P3D*n(M*,SFR)\", np.c_[fiveMaxPnMSFRnames, fiveMaxPnMSFR], sep='\\n')"
   ]
  }
 ],
 "metadata": {
  "kernelspec": {
   "display_name": "Python 3 (ipykernel)",
   "language": "python",
   "name": "python3"
  },
  "language_info": {
   "codemirror_mode": {
    "name": "ipython",
    "version": 3
   },
   "file_extension": ".py",
   "mimetype": "text/x-python",
   "name": "python",
   "nbconvert_exporter": "python",
   "pygments_lexer": "ipython3",
   "version": "3.8.8"
  }
 },
 "nbformat": 4,
 "nbformat_minor": 5
}
