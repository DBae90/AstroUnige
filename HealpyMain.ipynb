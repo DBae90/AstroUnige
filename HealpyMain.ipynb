{
 "cells": [
  {
   "cell_type": "code",
   "execution_count": 1,
   "id": "70ff21d6",
   "metadata": {},
   "outputs": [],
   "source": [
    "import numpy as np\n",
    "import pandas as pd\n",
    "import healpy as hp\n",
    "import matplotlib.pyplot as plt\n",
    "\n",
    "hecateFile = pd.read_csv('/home/db/Desktop/AstroProject/Data/hecate_v1.1_for_GW.csv')\n",
    "fitsFile = '/home/db/Desktop/AstroProject/Data/MCMC_TF2_LowSpin_AllSky.fits'\n",
    "\n",
    "[prob, distmu, distsigma, distnorm], header = hp.read_map(fitsFile, field=[0, 1, 2, 3], h = True) # creates 2 arrays, one with 4 columns, and one for the header column that is needed to find an abstract value which is the NSIDE for the ang2pix function\n",
    "\n",
    "headerDict = {nameKeys:value for nameKeys,value in header} # Creates a dictionnary between a key and a value associated\n",
    "\n",
    "HECATE_pixelsIndex = hp.ang2pix(headerDict['NSIDE'], hecateFile['RA'], np.array(hecateFile['DEC']), lonlat=True) # Converts the 2 angle values we have to pixel values, that we'll then make correspond with the FITS pixels"
   ]
  },
  {
   "cell_type": "code",
   "execution_count": 2,
   "id": "c3fb2224",
   "metadata": {},
   "outputs": [
    {
     "name": "stdout",
     "output_type": "stream",
     "text": [
      "[['PGC169672' 0.006675970091842589]\n",
      " ['PGC831458' 0.00656682202026065]\n",
      " ['PGC158506' 0.006526787685675716]\n",
      " ['PGC837800' 0.0063802623433190314]\n",
      " ['2MASXJ13042517-2042527' 0.0062625413769155265]]\n"
     ]
    }
   ],
   "source": [
    "# P2D top 5 sources\n",
    "\n",
    "P2D = prob[HECATE_pixelsIndex] # P2D probability associated to all galaxy of HECATE\n",
    "\n",
    "sumProb = np.sum(P2D)\n",
    "\n",
    "P2D_norm = P2D/sumProb # Normalized P2D array\n",
    "\n",
    "fiveMaxP2DIndex = np.argsort(P2D_norm)[-5:][::-1] # takes the 5 largest elements sorted from largest to smallest ([-5:] is from smallest to largest only)\n",
    "\n",
    "fiveMaxP2D = P2D_norm[fiveMaxP2DIndex] # fiveMaxProb is the top 5 galaxy candidates that can be the source of the GW\n",
    "\n",
    "fiveMaxP2DNames = hecateFile['OBJNAME'][fiveMaxP2DIndex]\n",
    "\n",
    "fiveMaxP2DNames = fiveMaxP2DNames.to_numpy()\n",
    "\n",
    "print(np.c_[fiveMaxP2DNames, fiveMaxP2D])"
   ]
  },
  {
   "cell_type": "code",
   "execution_count": 3,
   "id": "d4e3e2c5",
   "metadata": {},
   "outputs": [],
   "source": [
    "# Variables\n",
    "\n",
    "P_pixel = P2D # Renaming the non-normalized P2D for all galaxies\n",
    "\n",
    "N_pixel = distnorm[HECATE_pixelsIndex]\n",
    "\n",
    "D_galaxy = hecateFile['D'].to_numpy()\n",
    "\n",
    "mu_pixel = distmu[HECATE_pixelsIndex]\n",
    "\n",
    "mu_pixel = np.array([x if x >= 0 else 0 for x in mu_pixel]) # changes all negative values of mu_pixel to 0\n",
    "\n",
    "sig_pixel = distsigma[HECATE_pixelsIndex]\n",
    "\n",
    "exponent = -1/2*((D_galaxy-mu_pixel)/sig_pixel)**2\n",
    "\n",
    "GaussFactor = np.exp(exponent) # Gaussian exponential of (1) of Ducoin paper"
   ]
  },
  {
   "cell_type": "code",
   "execution_count": 4,
   "id": "7ed17c6d",
   "metadata": {},
   "outputs": [
    {
     "name": "stdout",
     "output_type": "stream",
     "text": [
      "[['ESO508-004' 0.0964901982774173]\n",
      " ['ESO575-053' 0.08491642944762096]\n",
      " ['NGC4993' 0.08356755221946364]\n",
      " ['ESO575-055' 0.08168905970345927]\n",
      " ['ESO508-024' 0.06740727980139116]]\n"
     ]
    }
   ],
   "source": [
    "# P3D top 5 sources\n",
    "\n",
    "P3D = P_pixel*N_pixel*GaussFactor # Formula (1) of the Ducoin paper\n",
    "\n",
    "P3D = np.nan_to_num(P3D) # sets all nan values to 0\n",
    "\n",
    "sumP3D = np.sum(P3D)\n",
    "\n",
    "P3D_norm = P3D/sumP3D # Normalized P3D array\n",
    "\n",
    "fiveMaxP3DIndex = np.argsort(P3D_norm)[-5:][::-1] \n",
    "\n",
    "fiveMaxP3D = P3D_norm[fiveMaxP3DIndex]\n",
    "\n",
    "fiveMaxP3DNames = hecateFile['OBJNAME'][fiveMaxP3DIndex]\n",
    "\n",
    "fiveMaxP3DNames = fiveMaxP3DNames.to_numpy()\n",
    "\n",
    "print(np.c_[fiveMaxP3DNames, fiveMaxP3D])"
   ]
  },
  {
   "cell_type": "code",
   "execution_count": 5,
   "id": "a629e7a9",
   "metadata": {},
   "outputs": [
    {
     "name": "stdout",
     "output_type": "stream",
     "text": [
      "[['NGC4993' 0.2749864562253773]\n",
      " ['ESO575-053' 0.11071220901540405]\n",
      " ['ESO508-024' 0.10329815898779292]\n",
      " ['ESO575-055' 0.08281312950348892]\n",
      " ['NGC4968' 0.07316961900854449]]\n"
     ]
    }
   ],
   "source": [
    "# P3D*n(M*) top 5 sources\n",
    "\n",
    "Smass = hecateFile['logM_HEC'].to_numpy() # Column logM_HEC from the csv file\n",
    "\n",
    "Smass = np.nan_to_num(Smass)\n",
    "\n",
    "PnM = P3D*np.exp(Smass) # Using formula (1) of the Artale paper\n",
    "\n",
    "PnM = np.nan_to_num(PnM)\n",
    "\n",
    "sumPnM = np.sum(PnM)\n",
    "\n",
    "PnM = PnM/sumPnM # Normalized PnM array\n",
    "\n",
    "fiveMaxPnMIndex = np.argsort(PnM)[-5:][::-1]\n",
    "\n",
    "fiveMaxPnM = PnM[fiveMaxPnMIndex]\n",
    "\n",
    "fiveMaxPnMnames = hecateFile['OBJNAME'][fiveMaxPnMIndex]\n",
    "\n",
    "fiveMaxPnMnames = fiveMaxPnMnames.to_numpy()\n",
    "\n",
    "print(np.c_[fiveMaxPnMnames, fiveMaxPnM])"
   ]
  },
  {
   "cell_type": "code",
   "execution_count": 57,
   "id": "b603900c",
   "metadata": {},
   "outputs": [
    {
     "ename": "ValueError",
     "evalue": "The truth value of a Series is ambiguous. Use a.empty, a.bool(), a.item(), a.any() or a.all().",
     "output_type": "error",
     "traceback": [
      "\u001b[0;31m---------------------------------------------------------------------------\u001b[0m",
      "\u001b[0;31mValueError\u001b[0m                                Traceback (most recent call last)",
      "\u001b[0;32m<ipython-input-57-d00d34bb2186>\u001b[0m in \u001b[0;36m<module>\u001b[0;34m\u001b[0m\n\u001b[1;32m     40\u001b[0m     \u001b[0;31m#print(indexHEC)\u001b[0m\u001b[0;34m\u001b[0m\u001b[0;34m\u001b[0m\u001b[0;34m\u001b[0m\u001b[0m\n\u001b[1;32m     41\u001b[0m     \u001b[0;31m#print(hecateFile['logSFR_HEC'].iloc[indexHEC])\u001b[0m\u001b[0;34m\u001b[0m\u001b[0;34m\u001b[0m\u001b[0;34m\u001b[0m\u001b[0m\n\u001b[0;32m---> 42\u001b[0;31m     \u001b[0mSFR1\u001b[0m\u001b[0;34m[\u001b[0m\u001b[0mindexHEC\u001b[0m\u001b[0;34m]\u001b[0m \u001b[0;34m=\u001b[0m \u001b[0mfill_SFR\u001b[0m\u001b[0;34m(\u001b[0m\u001b[0mhecateFile\u001b[0m\u001b[0;34m[\u001b[0m\u001b[0;34m'logSFR_HEC'\u001b[0m\u001b[0;34m]\u001b[0m\u001b[0;34m[\u001b[0m\u001b[0mindexHEC\u001b[0m\u001b[0;34m]\u001b[0m\u001b[0;34m,\u001b[0m \u001b[0mtarget_logSFR\u001b[0m\u001b[0;34m)\u001b[0m\u001b[0;34m\u001b[0m\u001b[0;34m\u001b[0m\u001b[0m\n\u001b[0m\u001b[1;32m     43\u001b[0m \u001b[0;34m\u001b[0m\u001b[0m\n",
      "\u001b[0;32m<ipython-input-57-d00d34bb2186>\u001b[0m in \u001b[0;36mfill_SFR\u001b[0;34m(old, new)\u001b[0m\n\u001b[1;32m     14\u001b[0m \u001b[0;34m\u001b[0m\u001b[0m\n\u001b[1;32m     15\u001b[0m \u001b[0;32mdef\u001b[0m \u001b[0mfill_SFR\u001b[0m\u001b[0;34m(\u001b[0m\u001b[0mold\u001b[0m\u001b[0;34m,\u001b[0m \u001b[0mnew\u001b[0m\u001b[0;34m)\u001b[0m\u001b[0;34m:\u001b[0m\u001b[0;34m\u001b[0m\u001b[0;34m\u001b[0m\u001b[0m\n\u001b[0;32m---> 16\u001b[0;31m     \u001b[0;32mreturn\u001b[0m \u001b[0mnew\u001b[0m \u001b[0;32mif\u001b[0m \u001b[0;32mnot\u001b[0m \u001b[0mnp\u001b[0m\u001b[0;34m.\u001b[0m\u001b[0misfinite\u001b[0m\u001b[0;34m(\u001b[0m\u001b[0mold\u001b[0m\u001b[0;34m)\u001b[0m \u001b[0;32melse\u001b[0m \u001b[0mold\u001b[0m\u001b[0;34m\u001b[0m\u001b[0;34m\u001b[0m\u001b[0m\n\u001b[0m\u001b[1;32m     17\u001b[0m \u001b[0;34m\u001b[0m\u001b[0m\n\u001b[1;32m     18\u001b[0m \u001b[0;31m# Other way of writing fill_SFR would be :\u001b[0m\u001b[0;34m\u001b[0m\u001b[0;34m\u001b[0m\u001b[0;34m\u001b[0m\u001b[0m\n",
      "\u001b[0;32m~/anaconda3/lib/python3.8/site-packages/pandas/core/generic.py\u001b[0m in \u001b[0;36m__nonzero__\u001b[0;34m(self)\u001b[0m\n\u001b[1;32m   1535\u001b[0m     \u001b[0;34m@\u001b[0m\u001b[0mfinal\u001b[0m\u001b[0;34m\u001b[0m\u001b[0;34m\u001b[0m\u001b[0m\n\u001b[1;32m   1536\u001b[0m     \u001b[0;32mdef\u001b[0m \u001b[0m__nonzero__\u001b[0m\u001b[0;34m(\u001b[0m\u001b[0mself\u001b[0m\u001b[0;34m)\u001b[0m\u001b[0;34m:\u001b[0m\u001b[0;34m\u001b[0m\u001b[0;34m\u001b[0m\u001b[0m\n\u001b[0;32m-> 1537\u001b[0;31m         raise ValueError(\n\u001b[0m\u001b[1;32m   1538\u001b[0m             \u001b[0;34mf\"The truth value of a {type(self).__name__} is ambiguous. \"\u001b[0m\u001b[0;34m\u001b[0m\u001b[0;34m\u001b[0m\u001b[0m\n\u001b[1;32m   1539\u001b[0m             \u001b[0;34m\"Use a.empty, a.bool(), a.item(), a.any() or a.all().\"\u001b[0m\u001b[0;34m\u001b[0m\u001b[0;34m\u001b[0m\u001b[0m\n",
      "\u001b[0;31mValueError\u001b[0m: The truth value of a Series is ambiguous. Use a.empty, a.bool(), a.item(), a.any() or a.all()."
     ]
    }
   ],
   "source": [
    "# Copying all logSFR_W values of the Wise file to a copied logSFR_HEC column of the hecate file\n",
    "\n",
    "SFR = (hecateFile['logSFR_HEC'].to_numpy())\n",
    "\n",
    "SFR1 = SFR\n",
    "\n",
    "# wiseFile = pd.read_csv('/home/db/Desktop/AstroProject/Data/candidates_WISE_SFRs.csv')\n",
    "\n",
    "# wiseFile = wiseFile.to_numpy()\n",
    "\n",
    "wiseFile = np.genfromtxt('/home/db/Desktop/AstroProject/Data/candidates_WISE_SFRs.csv', delimiter = \",\" , names = True)\n",
    "\n",
    "SFR2 = (wiseFile['logSFR_W'])\n",
    "\n",
    "def fill_SFR(old, new):\n",
    "    return new if not np.isfinite(old) else old\n",
    "\n",
    "# Other way of writing fill_SFR would be :\n",
    "# def fill_SFR(old, new):\n",
    "    # if np.isfinite(old)\n",
    "        # return old\n",
    "    # return new\n",
    "    \n",
    "#pgcWise = wiseFile[0]['pgc']\n",
    "#print(pgcWise)\n",
    "\n",
    "for wise_row in wiseFile : # le 1er terme dans la nomenclature \"for\" désigne l'index de ligne du tableau en question\n",
    "    #print(wise_row) #ok\n",
    "    target_PGC = wise_row['pgc']\n",
    "    target_logSFR = wise_row['logSFR_W']\n",
    "    #print(target_PGC) #ok\n",
    "    indexHEC = np.where(hecateFile['OBJNAME'] == target_PGC)[0]\n",
    "    \n",
    "    #type(indexHEC) returns \"tuple\"\n",
    "    #type(indexHEC[0]) returns \"numpy.ndarray\"\n",
    "    \n",
    "    #type(indexHEC)\n",
    "    #print(indexHEC)\n",
    "    #indexHEC = np.where(hecateFile['OBJNAME'] == target_PGC)[0][0]\n",
    "    #print(indexHEC)\n",
    "    #print(hecateFile['logSFR_HEC'].iloc[indexHEC])\n",
    "    SFR1[indexHEC] = fill_SFR(hecateFile['logSFR_HEC'][indexHEC], target_logSFR)\n",
    "    "
   ]
  },
  {
   "cell_type": "code",
   "execution_count": 53,
   "id": "4b70ac61",
   "metadata": {},
   "outputs": [
    {
     "data": {
      "text/plain": [
       "tuple"
      ]
     },
     "execution_count": 53,
     "metadata": {},
     "output_type": "execute_result"
    }
   ],
   "source": [
    "type(indexHEC)"
   ]
  },
  {
   "cell_type": "code",
   "execution_count": null,
   "id": "bdf56c60",
   "metadata": {},
   "outputs": [],
   "source": [
    "# P3D*n(M*,SFR) top 5 sources\n",
    "\n",
    "SFR = (hecateFile['logSFR_HEC'].to_numpy())\n",
    "\n",
    "SFR = np.nan_to_num(SFR)\n",
    "\n",
    "PnMSFR = P3D*np.exp(Smass+SFR) # Using formula (2) of the Artale paper\n",
    "\n",
    "PnMSFR = np.nan_to_num(PnMSFR)\n",
    "\n",
    "sumPnMSFR = np.sum(PnMSFR)\n",
    "\n",
    "PnMSFR = PnMSFR/sumPnMSFR # Normalized PnMSFR array\n",
    "\n",
    "fiveMaxPnMSFRIndex = np.argsort(PnMSFR)[-5:][::-1]\n",
    "\n",
    "fiveMaxPnMSFR = PnMSFR[fiveMaxPnMSFRIndex]\n",
    "\n",
    "fiveMaxPnMSFRnames = hecateFile['OBJNAME'][fiveMaxPnMSFRIndex]\n",
    "\n",
    "fiveMaxPnMSFRnames = fiveMaxPnMSFRnames.to_numpy()\n",
    "\n",
    "print(np.c_[fiveMaxPnMSFRnames, fiveMaxPnMSFR])"
   ]
  },
  {
   "cell_type": "code",
   "execution_count": null,
   "id": "a54e7eb4",
   "metadata": {},
   "outputs": [],
   "source": [
    "# P3D*n(M*,SFR, Z) top 5 sources\n",
    "\n",
    "Z = (hecateFile['METAL'].to_numpy())\n",
    "\n",
    "Z = np.nan_to_num(Z)\n",
    "\n",
    "#minMaxZ = [np.min(Z), np.max(Z)]\n",
    "\n",
    "#print(minMaxZ)\n",
    "\n",
    "PnAll = P3D*np.exp(Smass+SFR+Z) # Using formula (9) of the K. paper\n",
    "\n",
    "PnAll = np.nan_to_num(PnAll)\n",
    "\n",
    "sumPnAll = np.sum(PnAll)\n",
    "\n",
    "PnAll = PnAll/sumPnAll # Normalized PnAll array\n",
    "\n",
    "fiveMaxPnAllIndex = np.argsort(PnAll)[-5:][::-1]\n",
    "\n",
    "fiveMaxPnAll = PnAll[fiveMaxPnAllIndex]\n",
    "\n",
    "fiveMaxPnAllnames = hecateFile['OBJNAME'][fiveMaxPnAllIndex]\n",
    "\n",
    "fiveMaxPnAllnames = fiveMaxPnAllnames.to_numpy()\n",
    "\n",
    "print(np.c_[fiveMaxPnAllnames, fiveMaxPnAll])\n",
    "\n",
    "# IMPORTANT : The results here seem to indicate that 1) none of the 5 top galaxies have metallicity \n",
    "\n",
    "# and 2) that known metallicity data for other galaxies isn't enough for them to have priority over those 5"
   ]
  },
  {
   "cell_type": "code",
   "execution_count": null,
   "id": "3dc99b4a",
   "metadata": {},
   "outputs": [],
   "source": [
    "# Function that applies n(M*), n(M*,SFR) or n(M*,SFR, Z) according to data\n",
    "\n",
    "\n",
    "# Plan\n",
    "\n",
    "# Ca peut pas être 3 fonctions, car certaines galaxies peuvent avoir SFR mais pas Smass\n",
    "\n",
    "# En fait au final, si on enlève les NaN de Smass, SFR et Z, la fonction PnAll = P3D*np.exp(Smass+SFR+Z) fait ça très bien, comme ça somme sur 0\n",
    "\n",
    "# La fonction doit pouvoir filtrer"
   ]
  },
  {
   "cell_type": "code",
   "execution_count": null,
   "id": "b74b4c03",
   "metadata": {},
   "outputs": [],
   "source": [
    "# Results\n",
    "\n",
    "print(\"P2D\", np.c_[fiveMaxP2DNames, fiveMaxP2D], \" \"\n",
    "      , \"P3D\", np.c_[fiveMaxP3DNames, fiveMaxP3D], \" \"\n",
    "      , \"P3D*n(M*)\", np.c_[fiveMaxPnMnames, fiveMaxPnM], \" \"\n",
    "      , \"P3D*n(M*,SFR)\", np.c_[fiveMaxPnMSFRnames, fiveMaxPnMSFR], \" \"\n",
    "      , \"P3D*n(M*,SFR, Z)\", np.c_[fiveMaxPnAllnames, fiveMaxPnAll],sep='\\n')"
   ]
  }
 ],
 "metadata": {
  "kernelspec": {
   "display_name": "Python 3 (ipykernel)",
   "language": "python",
   "name": "python3"
  },
  "language_info": {
   "codemirror_mode": {
    "name": "ipython",
    "version": 3
   },
   "file_extension": ".py",
   "mimetype": "text/x-python",
   "name": "python",
   "nbconvert_exporter": "python",
   "pygments_lexer": "ipython3",
   "version": "3.8.8"
  }
 },
 "nbformat": 4,
 "nbformat_minor": 5
}
